{
 "cells": [
  {
   "cell_type": "code",
   "execution_count": 1,
   "metadata": {
    "collapsed": false
   },
   "outputs": [
    {
     "name": "stderr",
     "output_type": "stream",
     "text": [
      "Using TensorFlow backend.\n"
     ]
    }
   ],
   "source": [
    "from keras.models import Sequential\n",
    "from keras.layers import Dense\n",
    "import numpy as np\n",
    "import matplotlib.pyplot as plt\n",
    "%matplotlib inline"
   ]
  },
  {
   "cell_type": "code",
   "execution_count": 2,
   "metadata": {
    "collapsed": true
   },
   "outputs": [],
   "source": [
    "# Generate dataset\n",
    "trX = np.linspace(-1, 1, 101)\n",
    "trY = 2 * trX + np.random.randn(*trX.shape) * 0.33 # create a y value which is approximately linear but with some random noise"
   ]
  },
  {
   "cell_type": "code",
   "execution_count": 3,
   "metadata": {
    "collapsed": true
   },
   "outputs": [],
   "source": [
    "# Linear regression model\n",
    "model = Sequential()\n",
    "model.add(Dense(input_dim=1, output_dim=1, init='uniform', activation='linear'))\n",
    "model.compile(optimizer='sgd', loss='mse')"
   ]
  },
  {
   "cell_type": "code",
   "execution_count": 4,
   "metadata": {
    "collapsed": false
   },
   "outputs": [
    {
     "name": "stdout",
     "output_type": "stream",
     "text": [
      "Linear regression model is initialized with weight w: -0.03, b: 0.00\n"
     ]
    }
   ],
   "source": [
    "# Print initial weights\n",
    "weights = model.layers[0].get_weights()\n",
    "w_init = weights[0][0][0]\n",
    "b_init = weights[1][0]\n",
    "print('Linear regression model is initialized with weight w: %.2f, b: %.2f' % (w_init, b_init))"
   ]
  },
  {
   "cell_type": "code",
   "execution_count": 5,
   "metadata": {
    "collapsed": false
   },
   "outputs": [
    {
     "name": "stdout",
     "output_type": "stream",
     "text": [
      "Epoch 1/100\n",
      "101/101 [==============================] - 0s - loss: 1.4899     \n",
      "Epoch 2/100\n",
      "101/101 [==============================] - 0s - loss: 1.4251     \n",
      "Epoch 3/100\n",
      "101/101 [==============================] - 0s - loss: 1.3537     \n",
      "Epoch 4/100\n",
      "101/101 [==============================] - 0s - loss: 1.2826     \n",
      "Epoch 5/100\n",
      "101/101 [==============================] - 0s - loss: 1.2193     \n",
      "Epoch 6/100\n",
      "101/101 [==============================] - 0s - loss: 1.1637     \n",
      "Epoch 7/100\n",
      "101/101 [==============================] - 0s - loss: 1.1025     \n",
      "Epoch 8/100\n",
      "101/101 [==============================] - 0s - loss: 1.0550     \n",
      "Epoch 9/100\n",
      "101/101 [==============================] - 0s - loss: 1.0068     \n",
      "Epoch 10/100\n",
      "101/101 [==============================] - 0s - loss: 0.9559     \n",
      "Epoch 11/100\n",
      "101/101 [==============================] - 0s - loss: 0.9117     \n",
      "Epoch 12/100\n",
      "101/101 [==============================] - 0s - loss: 0.8697     \n",
      "Epoch 13/100\n",
      "101/101 [==============================] - 0s - loss: 0.8263     \n",
      "Epoch 14/100\n",
      "101/101 [==============================] - 0s - loss: 0.7893     \n",
      "Epoch 15/100\n",
      "101/101 [==============================] - 0s - loss: 0.7536     \n",
      "Epoch 16/100\n",
      "101/101 [==============================] - 0s - loss: 0.7234     \n",
      "Epoch 17/100\n",
      "101/101 [==============================] - 0s - loss: 0.6879     \n",
      "Epoch 18/100\n",
      "101/101 [==============================] - 0s - loss: 0.6582     \n",
      "Epoch 19/100\n",
      "101/101 [==============================] - 0s - loss: 0.6264     \n",
      "Epoch 20/100\n",
      "101/101 [==============================] - 0s - loss: 0.5992     \n",
      "Epoch 21/100\n",
      "101/101 [==============================] - 0s - loss: 0.5730     \n",
      "Epoch 22/100\n",
      "101/101 [==============================] - 0s - loss: 0.5513     \n",
      "Epoch 23/100\n",
      "101/101 [==============================] - 0s - loss: 0.5284     \n",
      "Epoch 24/100\n",
      "101/101 [==============================] - 0s - loss: 0.5078     \n",
      "Epoch 25/100\n",
      "101/101 [==============================] - 0s - loss: 0.4861     \n",
      "Epoch 26/100\n",
      "101/101 [==============================] - 0s - loss: 0.4682     \n",
      "Epoch 27/100\n",
      "101/101 [==============================] - 0s - loss: 0.4490     \n",
      "Epoch 28/100\n",
      "101/101 [==============================] - 0s - loss: 0.4332     \n",
      "Epoch 29/100\n",
      "101/101 [==============================] - 0s - loss: 0.4179     \n",
      "Epoch 30/100\n",
      "101/101 [==============================] - 0s - loss: 0.4030     \n",
      "Epoch 31/100\n",
      "101/101 [==============================] - 0s - loss: 0.3867     \n",
      "Epoch 32/100\n",
      "101/101 [==============================] - 0s - loss: 0.3719     \n",
      "Epoch 33/100\n",
      "101/101 [==============================] - 0s - loss: 0.3584     \n",
      "Epoch 34/100\n",
      "101/101 [==============================] - 0s - loss: 0.3464     \n",
      "Epoch 35/100\n",
      "101/101 [==============================] - 0s - loss: 0.3342     \n",
      "Epoch 36/100\n",
      "101/101 [==============================] - 0s - loss: 0.3204     \n",
      "Epoch 37/100\n",
      "101/101 [==============================] - 0s - loss: 0.3091     \n",
      "Epoch 38/100\n",
      "101/101 [==============================] - 0s - loss: 0.2997     \n",
      "Epoch 39/100\n",
      "101/101 [==============================] - 0s - loss: 0.2901     \n",
      "Epoch 40/100\n",
      "101/101 [==============================] - 0s - loss: 0.2819     \n",
      "Epoch 41/100\n",
      "101/101 [==============================] - 0s - loss: 0.2736     \n",
      "Epoch 42/100\n",
      "101/101 [==============================] - 0s - loss: 0.2663     \n",
      "Epoch 43/100\n",
      "101/101 [==============================] - 0s - loss: 0.2593     \n",
      "Epoch 44/100\n",
      "101/101 [==============================] - 0s - loss: 0.2525     \n",
      "Epoch 45/100\n",
      "101/101 [==============================] - 0s - loss: 0.2438     \n",
      "Epoch 46/100\n",
      "101/101 [==============================] - 0s - loss: 0.2356     \n",
      "Epoch 47/100\n",
      "101/101 [==============================] - 0s - loss: 0.2281     \n",
      "Epoch 48/100\n",
      "101/101 [==============================] - 0s - loss: 0.2221     \n",
      "Epoch 49/100\n",
      "101/101 [==============================] - 0s - loss: 0.2144     \n",
      "Epoch 50/100\n",
      "101/101 [==============================] - 0s - loss: 0.2093     \n",
      "Epoch 51/100\n",
      "101/101 [==============================] - 0s - loss: 0.2036     \n",
      "Epoch 52/100\n",
      "101/101 [==============================] - 0s - loss: 0.1987     \n",
      "Epoch 53/100\n",
      "101/101 [==============================] - 0s - loss: 0.1940     \n",
      "Epoch 54/100\n",
      "101/101 [==============================] - 0s - loss: 0.1897     \n",
      "Epoch 55/100\n",
      "101/101 [==============================] - 0s - loss: 0.1858     \n",
      "Epoch 56/100\n",
      "101/101 [==============================] - 0s - loss: 0.1822     \n",
      "Epoch 57/100\n",
      "101/101 [==============================] - 0s - loss: 0.1784     \n",
      "Epoch 58/100\n",
      "101/101 [==============================] - 0s - loss: 0.1744     \n",
      "Epoch 59/100\n",
      "101/101 [==============================] - 0s - loss: 0.1706     \n",
      "Epoch 60/100\n",
      "101/101 [==============================] - 0s - loss: 0.1675     \n",
      "Epoch 61/100\n",
      "101/101 [==============================] - 0s - loss: 0.1643     \n",
      "Epoch 62/100\n",
      "101/101 [==============================] - 0s - loss: 0.1613     \n",
      "Epoch 63/100\n",
      "101/101 [==============================] - 0s - loss: 0.1575     \n",
      "Epoch 64/100\n",
      "101/101 [==============================] - 0s - loss: 0.1548     \n",
      "Epoch 65/100\n",
      "101/101 [==============================] - 0s - loss: 0.1528     \n",
      "Epoch 66/100\n",
      "101/101 [==============================] - 0s - loss: 0.1511     \n",
      "Epoch 67/100\n",
      "101/101 [==============================] - 0s - loss: 0.1493     \n",
      "Epoch 68/100\n",
      "101/101 [==============================] - 0s - loss: 0.1466     \n",
      "Epoch 69/100\n",
      "101/101 [==============================] - 0s - loss: 0.1446     \n",
      "Epoch 70/100\n",
      "101/101 [==============================] - 0s - loss: 0.1424     \n",
      "Epoch 71/100\n",
      "101/101 [==============================] - 0s - loss: 0.1405     \n",
      "Epoch 72/100\n",
      "101/101 [==============================] - 0s - loss: 0.1384     \n",
      "Epoch 73/100\n",
      "101/101 [==============================] - 0s - loss: 0.1370     \n",
      "Epoch 74/100\n",
      "101/101 [==============================] - 0s - loss: 0.1359     \n",
      "Epoch 75/100\n",
      "101/101 [==============================] - 0s - loss: 0.1346     \n",
      "Epoch 76/100\n",
      "101/101 [==============================] - 0s - loss: 0.1332     \n",
      "Epoch 77/100\n",
      "101/101 [==============================] - 0s - loss: 0.1315     \n",
      "Epoch 78/100\n",
      "101/101 [==============================] - 0s - loss: 0.1302     \n",
      "Epoch 79/100\n",
      "101/101 [==============================] - 0s - loss: 0.1293     \n",
      "Epoch 80/100\n",
      "101/101 [==============================] - 0s - loss: 0.1284     \n",
      "Epoch 81/100\n",
      "101/101 [==============================] - 0s - loss: 0.1273     \n",
      "Epoch 82/100\n",
      "101/101 [==============================] - 0s - loss: 0.1257     \n",
      "Epoch 83/100\n",
      "101/101 [==============================] - 0s - loss: 0.1252     \n",
      "Epoch 84/100\n",
      "101/101 [==============================] - 0s - loss: 0.1245     \n",
      "Epoch 85/100\n",
      "101/101 [==============================] - 0s - loss: 0.1236     \n",
      "Epoch 86/100\n",
      "101/101 [==============================] - 0s - loss: 0.1228     \n",
      "Epoch 87/100\n",
      "101/101 [==============================] - 0s - loss: 0.1221     \n",
      "Epoch 88/100\n",
      "101/101 [==============================] - 0s - loss: 0.1209     \n",
      "Epoch 89/100\n",
      "101/101 [==============================] - 0s - loss: 0.1203     \n",
      "Epoch 90/100\n",
      "101/101 [==============================] - 0s - loss: 0.1195     \n",
      "Epoch 91/100\n",
      "101/101 [==============================] - 0s - loss: 0.1187     \n",
      "Epoch 92/100\n",
      "101/101 [==============================] - 0s - loss: 0.1183     \n",
      "Epoch 93/100\n",
      "101/101 [==============================] - 0s - loss: 0.1178     \n",
      "Epoch 94/100\n",
      "101/101 [==============================] - 0s - loss: 0.1172     \n",
      "Epoch 95/100\n",
      "101/101 [==============================] - 0s - loss: 0.1168     \n",
      "Epoch 96/100\n",
      "101/101 [==============================] - 0s - loss: 0.1163     \n",
      "Epoch 97/100\n",
      "101/101 [==============================] - 0s - loss: 0.1159     \n",
      "Epoch 98/100\n",
      "101/101 [==============================] - 0s - loss: 0.1153     \n",
      "Epoch 99/100\n",
      "101/101 [==============================] - 0s - loss: 0.1150     \n",
      "Epoch 100/100\n",
      "101/101 [==============================] - 0s - loss: 0.1147     \n"
     ]
    },
    {
     "data": {
      "text/plain": [
       "<keras.callbacks.History at 0x7f5aca328790>"
      ]
     },
     "execution_count": 5,
     "metadata": {},
     "output_type": "execute_result"
    }
   ],
   "source": [
    "# Train\n",
    "model.fit(trX, trY, nb_epoch=100, verbose=1)"
   ]
  },
  {
   "cell_type": "code",
   "execution_count": 6,
   "metadata": {
    "collapsed": false
   },
   "outputs": [
    {
     "name": "stdout",
     "output_type": "stream",
     "text": [
      "Linear regression model is trained with weight w: 1.87, b: 0.00\n"
     ]
    }
   ],
   "source": [
    "# Print trained weights\n",
    "weights = model.layers[0].get_weights()\n",
    "w = weights[0][0][0]\n",
    "b = weights[1][0]\n",
    "print('Linear regression model is trained with weight w: %.2f, b: %.2f' % (w, b))"
   ]
  },
  {
   "cell_type": "code",
   "execution_count": 7,
   "metadata": {
    "collapsed": false
   },
   "outputs": [
    {
     "data": {
      "image/png": "[encoded data removed]",
      "text/plain": [
       "<matplotlib.figure.Figure at 0x7f5ab87bb3d0>"
      ]
     },
     "metadata": {},
     "output_type": "display_data"
    }
   ],
   "source": [
    "plt.plot(trX, trY, label='data')\n",
    "plt.plot(trX, w_init*trX + b_init, label='init')\n",
    "plt.plot(trX, w*trX + b, label='prediction')\n",
    "plt.legend()\n",
    "plt.show()"
   ]
  }
 ],
 "metadata": {
  "kernelspec": {
   "display_name": "Python 2",
   "language": "python",
   "name": "python2"
  },
  "language_info": {
   "codemirror_mode": {
    "name": "ipython",
    "version": 2
   },
   "file_extension": ".py",
   "mimetype": "text/x-python",
   "name": "python",
   "nbconvert_exporter": "python",
   "pygments_lexer": "ipython2",
   "version": "2.7.6"
  }
 },
 "nbformat": 4,
 "nbformat_minor": 0
}
